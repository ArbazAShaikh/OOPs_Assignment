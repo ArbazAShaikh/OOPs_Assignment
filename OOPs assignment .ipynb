{
 "cells": [
  {
   "cell_type": "markdown",
   "id": "ba6ddd9b",
   "metadata": {},
   "source": [
    "# OOPs ASSIGNMENT "
   ]
  },
  {
   "cell_type": "markdown",
   "id": "079cc48f",
   "metadata": {},
   "source": [
    "## 1.Explain Class and Object with respect to object-oriented programming.Give a suitable example.\n",
    "\n",
    "#### Ans.In object-oriented programming (OOP), a class and an object are fundamental concepts that facilitate the creation and organization of code. They are used to model real-world entities and encapsulate data and behavior. Let's explain each concept with a suitable example:\n",
    "\n",
    "#### Class:A class is a blueprint or a template for creating objects. It defines the attributes (data members) and methods (functions) that objects of that class will have. Think of it as a recipe for creating objects with specific characteristics and behaviors.\n",
    "\n",
    "#### Object:An object is an instance of a class, created from the class blueprint. It represents a specific entity or item that possesses the characteristics defined in the class. When an object is created, it can access and utilize the attributes and methods defined in its class."
   ]
  },
  {
   "cell_type": "code",
   "execution_count": 1,
   "id": "5d737906",
   "metadata": {},
   "outputs": [],
   "source": [
    "class test:                  # 'test' is class name\n",
    "    \n",
    "    def __init__(self,string):\n",
    "        self.string=string\n",
    "        \n",
    "    def validate_string(self):\n",
    "        if type(self.string)==str:\n",
    "            return self.string,\"is a string\"\n",
    "        else:\n",
    "            return self.string,\"is not a string\"\n",
    "        "
   ]
  },
  {
   "cell_type": "code",
   "execution_count": 2,
   "id": "46638cfa",
   "metadata": {},
   "outputs": [],
   "source": [
    "test_obj=test(\"Arbaz\")"
   ]
  },
  {
   "cell_type": "code",
   "execution_count": 3,
   "id": "feb728c5",
   "metadata": {},
   "outputs": [
    {
     "data": {
      "text/plain": [
       "('Arbaz', 'is a string')"
      ]
     },
     "execution_count": 3,
     "metadata": {},
     "output_type": "execute_result"
    }
   ],
   "source": [
    "test_obj.validate_string()"
   ]
  },
  {
   "cell_type": "code",
   "execution_count": 4,
   "id": "e1c32289",
   "metadata": {},
   "outputs": [],
   "source": [
    "test_obj2=test(123)"
   ]
  },
  {
   "cell_type": "code",
   "execution_count": 5,
   "id": "faa4b9cc",
   "metadata": {},
   "outputs": [
    {
     "data": {
      "text/plain": [
       "(123, 'is not a string')"
      ]
     },
     "execution_count": 5,
     "metadata": {},
     "output_type": "execute_result"
    }
   ],
   "source": [
    "test_obj2.validate_string()"
   ]
  },
  {
   "cell_type": "markdown",
   "id": "f21a78cc",
   "metadata": {},
   "source": [
    "## 2.Name the four pillars of OOPs.\n",
    "### Ans.The four pillars of Object-Oriented Programming (OOP) are:\n",
    "\n",
    "#### 1. Encapsulation: Encapsulation is the principle of bundling data (attributes) and the methods (functions) that operate on that data within a single unit called a class. It allows the class to control access to its internal state, preventing direct manipulation of data from outside the class. The class provides public interfaces (methods) to interact with the data, enforcing data hiding and abstraction.\n",
    "\n",
    "#### 2. Abstraction: Abstraction is the process of simplifying complex real-world entities into their essential characteristics, representing only the relevant features while hiding unnecessary details. In OOP, classes are used to create abstract data types that define the properties and behavior of an entity without exposing its internal implementation. Abstraction allows developers to focus on what an object does rather than how it does it.\n",
    "\n",
    "#### 3. Inheritance: Inheritance is a mechanism by which one class (called the subclass or derived class) can inherit the properties and behaviors of another class (called the superclass or base class). The subclass extends the functionality of the superclass, reusing code and promoting code reuse and hierarchy. This allows for the creation of hierarchical relationships among classes, forming an \"is-a\" relationship, where the subclass is a specialized version of the superclass.\n",
    "\n",
    "#### 4. Polymorphism: Polymorphism refers to the ability of different classes to be treated as instances of a common superclass. It allows a single interface (method) to be used for objects of different classes, enabling the code to handle objects based on their common behavior rather than their specific types. Polymorphism can be achieved through method overriding (same method name with different implementations in different classes) and method overloading (multiple methods with the same name but different parameters). It simplifies code design and promotes flexibility and extensibility.\n",
    "\n",
    "#### These four pillars are fundamental to the design and implementation of object-oriented systems, promoting modularity, code reusability, and maintainability."
   ]
  },
  {
   "cell_type": "markdown",
   "id": "4df5f6a6",
   "metadata": {},
   "source": [
    "## 3.Explain why the __int__() function is used.Give a suitable example.\n",
    "#### Ans.The int() function is used to convert a value to an integer data type in programming. It is particularly useful when you need to work with numerical data and want to ensure that a value is represented as an integer rather than a different data type. The int() function can handle various input types and convert them to their corresponding integer representations."
   ]
  },
  {
   "cell_type": "code",
   "execution_count": 6,
   "id": "ba082513",
   "metadata": {},
   "outputs": [],
   "source": [
    "num_str=\"1234\"\n",
    "num_int=int(num_str)"
   ]
  },
  {
   "cell_type": "code",
   "execution_count": 7,
   "id": "a54edd49",
   "metadata": {},
   "outputs": [
    {
     "data": {
      "text/plain": [
       "int"
      ]
     },
     "execution_count": 7,
     "metadata": {},
     "output_type": "execute_result"
    }
   ],
   "source": [
    "type(num_int)"
   ]
  },
  {
   "cell_type": "markdown",
   "id": "07e5dec7",
   "metadata": {},
   "source": [
    "## 4.Why self is used in OOPs?\n",
    "#### Ans.n Object-Oriented Programming (OOP), self is a special parameter that refers to the instance of the class itself. It is a common convention used in many programming languages  to refer to the instance variables and methods of the class from within its own methods. The use of self allows each instance of the class to maintain its own state and manipulate its data independently."
   ]
  },
  {
   "cell_type": "markdown",
   "id": "ce532478",
   "metadata": {},
   "source": [
    "## 5.What is inheritance? Give an example for each type of inheritance.\n",
    "#### Ans.nheritance is a fundamental concept in object-oriented programming (OOP) that allows a class (called the subclass or derived class) to inherit properties and behaviors from another class (called the superclass or base class). In other words, the subclass acquires the attributes and methods of the superclass, enabling code reuse and promoting a hierarchical relationship between classes. Inheritance is often used to model \"is-a\" relationships, where the subclass is a specialized version of the superclass."
   ]
  },
  {
   "cell_type": "code",
   "execution_count": 9,
   "id": "86632af5",
   "metadata": {},
   "outputs": [],
   "source": [
    "# Exampl of inheritance\n",
    "\n",
    "class A:\n",
    "    def disp_A(self):\n",
    "        print(\"This is class A\")"
   ]
  },
  {
   "cell_type": "code",
   "execution_count": 10,
   "id": "a2f0594f",
   "metadata": {},
   "outputs": [],
   "source": [
    "class B(A):\n",
    "    def disp_B(self):\n",
    "        print(\"This is class B\")"
   ]
  },
  {
   "cell_type": "code",
   "execution_count": 11,
   "id": "b547ea95",
   "metadata": {},
   "outputs": [],
   "source": [
    "obj_B=B()"
   ]
  },
  {
   "cell_type": "code",
   "execution_count": 12,
   "id": "997c6210",
   "metadata": {},
   "outputs": [
    {
     "name": "stdout",
     "output_type": "stream",
     "text": [
      "This is class A\n"
     ]
    }
   ],
   "source": [
    "obj_B.disp_A()"
   ]
  },
  {
   "cell_type": "code",
   "execution_count": 14,
   "id": "b84a7c41",
   "metadata": {},
   "outputs": [
    {
     "name": "stdout",
     "output_type": "stream",
     "text": [
      "This is class B\n"
     ]
    }
   ],
   "source": [
    "obj_B.disp_B()"
   ]
  },
  {
   "cell_type": "code",
   "execution_count": null,
   "id": "e3267f86",
   "metadata": {},
   "outputs": [],
   "source": []
  }
 ],
 "metadata": {
  "kernelspec": {
   "display_name": "Python 3 (ipykernel)",
   "language": "python",
   "name": "python3"
  },
  "language_info": {
   "codemirror_mode": {
    "name": "ipython",
    "version": 3
   },
   "file_extension": ".py",
   "mimetype": "text/x-python",
   "name": "python",
   "nbconvert_exporter": "python",
   "pygments_lexer": "ipython3",
   "version": "3.9.13"
  }
 },
 "nbformat": 4,
 "nbformat_minor": 5
}
